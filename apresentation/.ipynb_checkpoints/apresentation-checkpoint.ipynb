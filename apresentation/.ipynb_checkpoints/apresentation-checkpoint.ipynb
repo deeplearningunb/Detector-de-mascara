{
 "cells": [
  {
   "cell_type": "markdown",
   "metadata": {},
   "source": [
    "# Detector de Máscaras\n",
    "\n",
    "Projeto da disciplina de Deep Learning (2/2020) que tem como intuito de criar um detector de mascaras utilizando técnicas de Deep Learning.\n",
    "\n",
    "\n",
    "#### Membros\n",
    "\n",
    "|Nome|Matricula|Github|\n",
    "|--|--|--|\n",
    "|Ana Carolina Carvalho da Silva|190063441|[AnaCarolcs](https://github.com/AnaCarolcs)|\n",
    "|Lucas da Cunha Andrade|180105256|[nYCSTs](https://github.com/nYCSTs)|\n",
    "|Matheus Gabriel Alves Rodrigues|180106970|[Matheus73](https://github.com/Matheus73)|\n",
    "\n",
    "\n",
    "## Etapas do projeto\n",
    "* Decisão do tema\n",
    "* Coleta de dados\n",
    "* Modelagem\n",
    "* validação"
   ]
  },
  {
   "cell_type": "markdown",
   "metadata": {},
   "source": [
    "## Coleta de dados\n",
    "\n",
    "Essa etapa consitiu na coleta de imagens para treinamento e validação do modelo, tendo sido adotadas vários métodos para a aquisição desses dados, esses métodos foram:\n",
    "\n",
    "### Web scrapping\n",
    "\n",
    "Coletadas imagens de pessoas sem o uso de máscaras e adicionado o objeto num pre-processamento (Tudo automatizado)\n",
    "\n",
    "##### Coleta das imagens\n",
    "\n",
    "Fonte: [thispersondoesnotexist.com/](https://thispersondoesnotexist.com/)"
   ]
  },
  {
   "cell_type": "code",
   "execution_count": null,
   "metadata": {},
   "outputs": [],
   "source": [
    "from selenium import webdriver\n",
    "from selenium.webdriver.common.keys import Keys\n",
    "import time \n",
    "\n",
    "driver = webdriver.Chrome('./chromedriver')\n",
    "driver.get('https://thispersondoesnotexist.com/')\n",
    "\n",
    "\n",
    "for i in range(0, 400):\n",
    "    try:\n",
    "        driver.find_element_by_xpath('//*[@id=\"face\"]').screenshot('/home/matheus/Documents/Study/Data science/detect_glasses/nomask/personnotexist'+str(i+100)+').png')\n",
    "        driver.refresh()\n",
    "    except:\n",
    "        pass\n"
   ]
  },
  {
   "cell_type": "markdown",
   "metadata": {},
   "source": [
    "### Adicionando as máscaras"
   ]
  },
  {
   "cell_type": "code",
   "execution_count": null,
   "metadata": {},
   "outputs": [],
   "source": [
    "import os\n",
    "import random\n",
    "from PIL import Image\n",
    "\n",
    "parent_dir = 'nomask/'\n",
    "\n",
    "masks = ['mask1.png', 'mask2.png', 'mask3.png', 'mask4.png']\n",
    "\n",
    "for subdir, dirs, files in os.walk(parent_dir):\n",
    "    for count, file in enumerate(files):\n",
    "        image_path = os.path.join(subdir, file)\n",
    "        img = Image.open(image_path)\n",
    "\n",
    "        img2 = img.copy()\n",
    "        mask = Image.open(random.choice(masks))\n",
    "\n",
    "        img.paste(mask,(0,0),mask)\n",
    "        img.save(f\"withmask/withMask{count}.png\")\n"
   ]
  },
  {
   "cell_type": "markdown",
   "metadata": {},
   "source": [
    "#### Resultados Obtidos"
   ]
  },
  {
   "cell_type": "markdown",
   "metadata": {},
   "source": [
    "<img src='https://raw.githubusercontent.com/deeplearningunb/Detector-de-mascara/main/data/training_images/withMask/withMask133.png' width=300px heigth=300px>"
   ]
  },
  {
   "cell_type": "markdown",
   "metadata": {},
   "source": [
    "### Base de dados encontrada\n",
    "\n",
    "foi encontrada um repositório com imagens que poderiam ajudar nosso modelo\n",
    "\n",
    "Examplo:\n",
    "\n",
    "<img src='https://raw.githubusercontent.com/deeplearningunb/Detector-de-mascara/main/data/training_images/withMask/91.jpg' width=300px heigth=300px>\n",
    "\n",
    "\n",
    "**Problema com a proximidade das imagens**"
   ]
  },
  {
   "cell_type": "markdown",
   "metadata": {},
   "source": [
    "### Coleta manual\n",
    "\n",
    "Para corrigir o problema do modelo buscamos manualmente imagens de pessoas mais distantes\n",
    "\n",
    "<img src='https://raw.githubusercontent.com/deeplearningunb/Detector-de-mascara/main/data/training_images/withMask/91comMascara.png' width=300px heigth=300px>\n"
   ]
  },
  {
   "cell_type": "markdown",
   "metadata": {},
   "source": [
    "## Modelagem "
   ]
  },
  {
   "cell_type": "code",
   "execution_count": null,
   "metadata": {},
   "outputs": [],
   "source": [
    "import tensorflow as tf\n",
    "from keras.preprocessing.image import ImageDataGenerator\n",
    "\n",
    "train_datagen = ImageDataGenerator(rescale = 1./255,\n",
    "                                   shear_range = 0.2,\n",
    "                                   zoom_range = 0.2,\n",
    "                                   horizontal_flip = True)\n",
    "\n",
    "training_set = train_datagen.flow_from_directory('data/training_images',\n",
    "                                                 target_size = (64, 64),\n",
    "                                                 batch_size = 32,\n",
    "                                                 class_mode = 'binfaary')\n",
    "\n",
    "test_datagen = ImageDataGenerator(rescale = 1./255)\n",
    "\n",
    "test_set = test_datagen.flow_from_directory('data/test_images',\n",
    "                                            target_size = (64, 64),\n",
    "                                            batch_size = 32,\n",
    "                                            class_mode = 'binary')\n",
    "\n",
    "cnn = tf.keras.models.Sequential()\n",
    "\n",
    "cnn.add(tf.keras.layers.Conv2D(filters=32, kernel_size=3, activation='relu', input_shape=[64, 64, 3]))\n",
    "\n",
    "cnn.add(tf.keras.layers.MaxPool2D(pool_size=2, strides=2))\n",
    "\n",
    "cnn.add(tf.keras.layers.Conv2D(filters=32, kernel_size=3, activation='relu'))\n",
    "cnn.add(tf.keras.layers.MaxPool2D(pool_size=2, strides=2))\n",
    "\n",
    "cnn.add(tf.keras.layers.Flatten())\n",
    "\n",
    "cnn.add(tf.keras.layers.Dense(units=128, activation='relu'))\n",
    "\n",
    "cnn.add(tf.keras.layers.Dense(units=1, activation='sigmoid'))\n",
    "\n",
    "cnn.compile(optimizer = 'adam', loss = 'binary_crossentropy', metrics = ['accuracy'])\n",
    "\n",
    "cnn.fit(x = training_set, validation_data = test_set, epochs = 15)\n",
    "\n",
    "cnn.save('mask_detector_model')\n"
   ]
  },
  {
   "cell_type": "markdown",
   "metadata": {},
   "source": [
    "## Aplicação"
   ]
  },
  {
   "cell_type": "code",
   "execution_count": null,
   "metadata": {},
   "outputs": [],
   "source": [
    "import cv2 as cv\n",
    "import os\n",
    "from keras.preprocessing.image import ImageDataGenerator\n",
    "from tensorflow import keras\n",
    "import numpy as np\n",
    "from keras.preprocessing import image\n",
    "\n",
    "cam = cv.VideoCapture(0)\n",
    "\n",
    "cnn = keras.models.load_model('mask_detector_model')\n",
    "\n",
    "while True:\n",
    "    status, frame = cam.read()\n",
    "\n",
    "    if not status:\n",
    "        break\n",
    "\n",
    "    if cv.waitKey(1) & 0xff == ord('q'):\n",
    "        break\n",
    "\n",
    "    cv.imwrite('frame.png',frame)\n",
    "\n",
    "    test_image = image.load_img('frame.png', target_size = (64, 64))\n",
    "    test_image = image.img_to_array(test_image)\n",
    "    test_image = np.expand_dims(test_image, axis = 0)\n",
    "    result = cnn.predict(test_image)\n",
    "    if result[0][0] == 1:\n",
    "        prediction = 'COM mascara'\n",
    "        cv.rectangle(frame,(150,15),(500,85),(255,255,255), -1)\n",
    "        cv.putText(frame,prediction,(0 + 200,0 + 0 + 50), cv.FONT_HERSHEY_COMPLEX,1, (56,142,72), 2, cv.LINE_AA)\n",
    "    else:\n",
    "        prediction = 'SEM mascara'\n",
    "        cv.rectangle(frame,(150,15),(500,85),(255,255,255), -1)\n",
    "        cv.putText(frame,prediction,(0 + 200,0 + 0 + 50), cv.FONT_HERSHEY_COMPLEX,1,(0,40,255) , 2, cv.LINE_AA)\n",
    "\n",
    "    cv.imshow(\"Screen\",frame)\n"
   ]
  }
 ],
 "metadata": {
  "kernelspec": {
   "display_name": "Python 3",
   "language": "python",
   "name": "python3"
  },
  "language_info": {
   "codemirror_mode": {
    "name": "ipython",
    "version": 3
   },
   "file_extension": ".py",
   "mimetype": "text/x-python",
   "name": "python",
   "nbconvert_exporter": "python",
   "pygments_lexer": "ipython3",
   "version": "3.7.6"
  }
 },
 "nbformat": 4,
 "nbformat_minor": 5
}
